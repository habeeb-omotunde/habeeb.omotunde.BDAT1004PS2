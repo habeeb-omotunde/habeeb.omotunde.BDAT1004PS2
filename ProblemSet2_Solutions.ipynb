{
 "cells": [
  {
   "cell_type": "markdown",
   "id": "1074013a",
   "metadata": {},
   "source": [
    "# Question 1: \n",
    "<p>\n",
    "What value is displayed when the last expression (a) is evaluated? Explain your answer by indicating what happens in every executed statement.\n",
    "</p>"
   ]
  },
  {
   "cell_type": "code",
   "execution_count": 6,
   "id": "fc8d0386",
   "metadata": {},
   "outputs": [
    {
     "data": {
      "text/plain": [
       "6"
      ]
     },
     "execution_count": 6,
     "metadata": {},
     "output_type": "execute_result"
    }
   ],
   "source": [
    "a = 0\n",
    "def b():\n",
    "    global a\n",
    "    a = c(a)\n",
    "\n",
    "def c(a):\n",
    "    return a + 2\n",
    "\n",
    "\n",
    "b()\n",
    "b()\n",
    "b()\n",
    "a"
   ]
  },
  {
   "cell_type": "markdown",
   "id": "533a2b36",
   "metadata": {},
   "source": [
    "# Explanation\n",
    "<p>\n",
    "<li>The first statement defines a global variable <b>a = 0</b>. a, being global, is visible to all functions defined i.e. b() and c(a)</li>\n",
    "<li>When the last express is evaluated, the value of <b>a = 6</b></li>\n",
    "<li>The reason is simply because when function b() is invoked, it references the global variable <b>a = 0</b></li>.\n",
    "<li>This references the current memory address of the global variable <b>a</b>  in memory. </li>\n",
    "<li>Afterwards a call to function c(a) from function b(), passes the current value of a in memory to function c() which increments a by 2 everytime b() is invoked.</li> \n",
    "    <li>The returned value of c is assigned to a which points to the memory address of the global variable a</li>\n",
    "<li>In summary, everytime funtion, b() is executed, a is incremented by 2</li>.\n",
    "<li>Hence, calling function b() 3 times, sets the value of <b>a = 6</b></li>\n",
    "</p>"
   ]
  },
  {
   "cell_type": "markdown",
   "id": "ff00fa35",
   "metadata": {},
   "source": [
    "# Question 2: \n",
    "<p>\n",
    "Function fileLength(), given to you, takes the name of a file as input and returns the length of the file. Modify function fileLength() so that a friendly message is printed instead:\n",
    "</p>"
   ]
  },
  {
   "cell_type": "code",
   "execution_count": 8,
   "id": "56cd9431",
   "metadata": {},
   "outputs": [
    {
     "name": "stdout",
     "output_type": "stream",
     "text": [
      "idterm.py not found\n"
     ]
    }
   ],
   "source": [
    "def fileLength(file_name):\n",
    "    file = open(file_name)\n",
    "    contents = file.read()\n",
    "    file.close()\n",
    "    print(len(contents))\n",
    "\n",
    "# call to function handled in a try block which handles I/O exceptions such \"file not found\"\n",
    "try:\n",
    "    inputFile = 'idterm.py'\n",
    "    fileLength(inputFile)\n",
    "except IOError:\n",
    "        # executed only if an IOError exception is raised\n",
    "        print(f'{inputFile} not found')"
   ]
  },
  {
   "cell_type": "markdown",
   "id": "2673f7f3",
   "metadata": {},
   "source": [
    "# Question 3:\n",
    "<p>Write a class named Marsupial that can be used as shown below:</p>\n",
    "<p>Now write a class named Kangaroo as a subclass of Marsupial that inherits all the attributes of Marsupial and also:</p>\n",
    "   <ol>\n",
    "    <li>extends the Marsupial __init__ constructor to take, as input, the coordinates x and y of the Kangaroo object,</li>\n",
    "    <li>supports method jump that takes number values dx and dy as input and moves the kangaroo by dx units along the x-axis and by dy units along the y-axis, and</li>\n",
    "    <li>overloads the __str__ operator so it behaves as shown below</li>\n",
    "   </ol>\n",
    "\n"
   ]
  },
  {
   "cell_type": "code",
   "execution_count": 14,
   "id": "04889124",
   "metadata": {},
   "outputs": [],
   "source": [
    "class Marsupial:\n",
    "\n",
    "    myPouch = []     \n",
    "        \n",
    "    def put_in_pouch(self,item):\n",
    "        self.myPouch.append(item)\n",
    "\n",
    "    def pouch_contents(self):\n",
    "        print (self.myPouch)"
   ]
  },
  {
   "cell_type": "code",
   "execution_count": 15,
   "id": "34d69676",
   "metadata": {},
   "outputs": [
    {
     "name": "stdout",
     "output_type": "stream",
     "text": [
      "['doll', 'firetruck', 'kitten']\n"
     ]
    }
   ],
   "source": [
    "m = Marsupial()\n",
    "m.put_in_pouch('doll')\n",
    "m.put_in_pouch('firetruck')\n",
    "m.put_in_pouch('kitten')\n",
    "m.pouch_contents()"
   ]
  },
  {
   "cell_type": "code",
   "execution_count": 16,
   "id": "df7855c1",
   "metadata": {},
   "outputs": [],
   "source": [
    "# defining class kangaroo\n",
    "\n",
    "class Kangaroo(Marsupial):\n",
    "        \n",
    "    def __init__(self, coord_X = 0, coord_Y = 0):\n",
    "        self.myPouch = []\n",
    "        self.x = coord_X\n",
    "        self.y = coord_Y\n",
    "    \n",
    "    def jump(self, dx,dy):\n",
    "        self.x += dx\n",
    "        self.y += dy\n",
    "        \n",
    "    def  __str__(self):\n",
    "        'Define string representation Point(x, y)'\n",
    "        return 'I am a Kangaroo located at coordinates({}, {})'.format(self.x, self.y)"
   ]
  },
  {
   "cell_type": "code",
   "execution_count": 17,
   "id": "07908e18",
   "metadata": {},
   "outputs": [
    {
     "name": "stdout",
     "output_type": "stream",
     "text": [
      "I am a Kangaroo located at coordinates(0, 0)\n"
     ]
    }
   ],
   "source": [
    "k = Kangaroo(0,0)\n",
    "print(k)"
   ]
  },
  {
   "cell_type": "code",
   "execution_count": 18,
   "id": "3b1c58fe",
   "metadata": {},
   "outputs": [
    {
     "name": "stdout",
     "output_type": "stream",
     "text": [
      "['doll', 'firetruck', 'kitten']\n"
     ]
    }
   ],
   "source": [
    "k.put_in_pouch('doll')\n",
    "k.put_in_pouch('firetruck')\n",
    "k.put_in_pouch('kitten')\n",
    "k.pouch_contents()"
   ]
  },
  {
   "cell_type": "code",
   "execution_count": 19,
   "id": "ad5fdba1",
   "metadata": {},
   "outputs": [
    {
     "name": "stdout",
     "output_type": "stream",
     "text": [
      "I am a Kangaroo located at coordinates(3, 0)\n"
     ]
    }
   ],
   "source": [
    "k.jump(1,0)\n",
    "k.jump(1,0)\n",
    "k.jump(1,0)\n",
    "print(k)"
   ]
  },
  {
   "cell_type": "markdown",
   "id": "274c32f5",
   "metadata": {},
   "source": [
    "# Question 4:\n",
    "Write function collatz() that takes a positive integer x as input and prints the Collatz sequence starting at x. A Collatz sequence is obtained by repeatedly applying this rule to the previous number x in the sequence:"
   ]
  },
  {
   "cell_type": "code",
   "execution_count": 20,
   "id": "23ba1e63",
   "metadata": {},
   "outputs": [
    {
     "name": "stdout",
     "output_type": "stream",
     "text": [
      "10\n",
      "5\n",
      "16\n",
      "8\n",
      "4\n",
      "2\n",
      "1\n"
     ]
    }
   ],
   "source": [
    "def collatz(x):\n",
    "    if x == 1:\n",
    "        print(x) #base case\n",
    "    else:\n",
    "        if (x%2 == 0):\n",
    "            print(x)\n",
    "\n",
    "            return collatz(x//2)\n",
    "        else:\n",
    "            print(x)\n",
    "            return collatz((3*x)+ 1)\n",
    "        \n",
    "collatz(10)"
   ]
  },
  {
   "cell_type": "markdown",
   "id": "d336609a",
   "metadata": {},
   "source": [
    "# Question 5:\n",
    "<p>Write a recursive method binary() that takes a non-negative integer n and prints the binary representation of integer n.</p>"
   ]
  },
  {
   "cell_type": "code",
   "execution_count": 23,
   "id": "d82ce8b5",
   "metadata": {},
   "outputs": [
    {
     "name": "stdout",
     "output_type": "stream",
     "text": [
      "\n",
      ">>> binary(0)\n",
      " 0\n",
      ">>> binary(1)\n",
      " 1\n",
      ">>> binary(3)\n",
      " 11\n",
      ">>> binary(9)\n",
      " 1001"
     ]
    }
   ],
   "source": [
    "def binary(n):\n",
    "    if n > 1:\n",
    "        binary(n // 2) # Recursively call binary() with n divided by 2  \n",
    "    print(n % 2, end='')  \n",
    "\n",
    "# each input in decimal number can be tested individually \n",
    "# without the loop control structure.\n",
    "\n",
    "decimal_number = [0,1,3,9]\n",
    "\n",
    "for i in decimal_number:\n",
    "    print(f\"\\n>>> binary({i})\\n \", end='')\n",
    "    binary(i)"
   ]
  },
  {
   "cell_type": "markdown",
   "id": "147d29ce",
   "metadata": {},
   "source": [
    "# Questions 6 and 7 Omitted as requested by the Prof"
   ]
  },
  {
   "cell_type": "markdown",
   "id": "710cfeee",
   "metadata": {},
   "source": [
    "# Question 8\n",
    "<p>Write SQL queries on the below database table that return:</p>\n",
    "\n",
    "   <ol>\n",
    "    <li>All the temperature data.</li>\n",
    "    <li>All the cities, but without repetition</li>\n",
    "    <li>All the records for India</li>\n",
    "    <li>All the Fall records.</li>\n",
    "    <li>The city, country, and season for which the average rainfall is between 200 and 400 millimeters.</li>\n",
    "    <li>The city and country for which the average Fall temperature is above 20 degrees, in increasing temperature order.</li>\n",
    "    <li>The total annual rainfall for Cairo</li>\n",
    "    <li>The total rainfall for each season</li>\n",
    "   </ol>"
   ]
  },
  {
   "cell_type": "code",
   "execution_count": 24,
   "id": "8ddaeee2",
   "metadata": {},
   "outputs": [
    {
     "data": {
      "text/plain": [
       "[('Mumbai', 'India', 'Winter', 24.8, 5.9),\n",
       " ('Mumbai', 'India', 'Spring', 28.4, 16.2),\n",
       " ('Mumbai', 'India', 'Summer', 27.9, 1549.4),\n",
       " ('Mumbai', 'India', 'Fall', 27.6, 346.0),\n",
       " ('London', 'United Kingdom', 'Winter', 4.2, 207.7),\n",
       " ('London', 'United Kingdom', 'Spring', 8.3, 169.6),\n",
       " ('London', 'United Kingdom', 'Summer', 15.7, 157.0),\n",
       " ('London', 'United Kingdom', 'Fall', 10.4, 218.5),\n",
       " ('Cairo', 'Egypt', 'Winter', 13.6, 16.5),\n",
       " ('Cairo', 'Egypt', 'Spring', 20.7, 6.5),\n",
       " ('Cairo', 'Egypt', 'Summer', 27.7, 0.1),\n",
       " ('Cairo', 'Egypt', 'Fall', 22.2, 4.5)]"
      ]
     },
     "execution_count": 24,
     "metadata": {},
     "output_type": "execute_result"
    }
   ],
   "source": [
    "import sqlite3\n",
    "con = sqlite3.connect('Weather_Reports.db')\n",
    "cur = con.cursor()\n",
    "cur.execute(\"CREATE Table WEATHER(city text, country text, season text, temperature float, rainfall float)\")\n",
    "\n",
    "insert_str = \"INSERT INTO WEATHER VALUES (?, ?, ?, ?, ?)\"\n",
    "rec0 = ('Mumbai','India','Winter',24.8, 5.9)\n",
    "rec1 = ('Mumbai','India','Spring',28.4, 16.2)\n",
    "rec2 = ('Mumbai','India','Summer',27.9, 1549.4)\n",
    "rec3 = ('Mumbai','India','Fall',27.6, 346.0)\n",
    "\n",
    "rec4 = ('London','United Kingdom','Winter',4.2, 207.7)\n",
    "rec5 = ('London','United Kingdom','Spring',8.3, 169.6)\n",
    "rec6 = ('London','United Kingdom','Summer',15.7, 157.0)\n",
    "rec7 = ('London','United Kingdom','Fall',10.4, 218.5)\n",
    "\n",
    "rec8 = ('Cairo','Egypt','Winter',13.6, 16.5)\n",
    "rec9 = ('Cairo','Egypt','Spring',20.7, 6.5)\n",
    "rec10 = ('Cairo','Egypt','Summer',27.7, 0.1)\n",
    "rec11 = ('Cairo','Egypt','Fall',22.2, 4.5)\n",
    "\n",
    "cur.execute(insert_str,rec0)\n",
    "cur.execute(insert_str,rec1)\n",
    "cur.execute(insert_str,rec2)\n",
    "cur.execute(insert_str,rec3)\n",
    "cur.execute(insert_str,rec4)\n",
    "cur.execute(insert_str,rec5)\n",
    "cur.execute(insert_str,rec6)\n",
    "cur.execute(insert_str,rec7)\n",
    "cur.execute(insert_str,rec8)\n",
    "cur.execute(insert_str,rec9)\n",
    "cur.execute(insert_str,rec10)\n",
    "cur.execute(insert_str,rec11)\n",
    "\n",
    "cur.execute('select * from WEATHER')\n",
    "cur.fetchall()"
   ]
  },
  {
   "cell_type": "code",
   "execution_count": 26,
   "id": "082b52f6",
   "metadata": {},
   "outputs": [
    {
     "data": {
      "text/plain": [
       "[(24.8,),\n",
       " (28.4,),\n",
       " (27.9,),\n",
       " (27.6,),\n",
       " (4.2,),\n",
       " (8.3,),\n",
       " (15.7,),\n",
       " (10.4,),\n",
       " (13.6,),\n",
       " (20.7,),\n",
       " (27.7,),\n",
       " (22.2,)]"
      ]
     },
     "execution_count": 26,
     "metadata": {},
     "output_type": "execute_result"
    }
   ],
   "source": [
    "Q1 = 'select temperature from weather'\n",
    "Q2 = 'select distinct city from weather'\n",
    "Q3 = 'select * from weather where Country = \"India\"'\n",
    "Q4 = 'select * from weather where season = \"Fall\"'\n",
    "Q5 = 'select city, country from weather where rainfall between 200 and 400'\n",
    "Q6 = 'select city, country, season from weather where season = \"Fall\" and temperature > 20 order by temperature'\n",
    "Q7 = 'select sum(rainfall) from weather where city = \"Cairo\" group by city'\n",
    "Q8 = 'select city, sum(rainfall) from weather group by city'\n",
    "\n",
    "cur.execute(Q1)\n",
    "cur.fetchall()"
   ]
  },
  {
   "cell_type": "code",
   "execution_count": 27,
   "id": "e375ee9c",
   "metadata": {},
   "outputs": [
    {
     "data": {
      "text/plain": [
       "[('Mumbai',), ('London',), ('Cairo',)]"
      ]
     },
     "execution_count": 27,
     "metadata": {},
     "output_type": "execute_result"
    }
   ],
   "source": [
    "cur.execute(Q2)\n",
    "cur.fetchall()"
   ]
  },
  {
   "cell_type": "code",
   "execution_count": 28,
   "id": "fa3b9859",
   "metadata": {},
   "outputs": [
    {
     "data": {
      "text/plain": [
       "[('Mumbai', 'India', 'Winter', 24.8, 5.9),\n",
       " ('Mumbai', 'India', 'Spring', 28.4, 16.2),\n",
       " ('Mumbai', 'India', 'Summer', 27.9, 1549.4),\n",
       " ('Mumbai', 'India', 'Fall', 27.6, 346.0)]"
      ]
     },
     "execution_count": 28,
     "metadata": {},
     "output_type": "execute_result"
    }
   ],
   "source": [
    "cur.execute(Q3)\n",
    "cur.fetchall()"
   ]
  },
  {
   "cell_type": "code",
   "execution_count": 29,
   "id": "906edd6e",
   "metadata": {},
   "outputs": [
    {
     "data": {
      "text/plain": [
       "[('Mumbai', 'India', 'Fall', 27.6, 346.0),\n",
       " ('London', 'United Kingdom', 'Fall', 10.4, 218.5),\n",
       " ('Cairo', 'Egypt', 'Fall', 22.2, 4.5)]"
      ]
     },
     "execution_count": 29,
     "metadata": {},
     "output_type": "execute_result"
    }
   ],
   "source": [
    "cur.execute(Q4)\n",
    "cur.fetchall()"
   ]
  },
  {
   "cell_type": "code",
   "execution_count": 30,
   "id": "6a6df451",
   "metadata": {},
   "outputs": [
    {
     "data": {
      "text/plain": [
       "[('Mumbai', 'India'),\n",
       " ('London', 'United Kingdom'),\n",
       " ('London', 'United Kingdom')]"
      ]
     },
     "execution_count": 30,
     "metadata": {},
     "output_type": "execute_result"
    }
   ],
   "source": [
    "cur.execute(Q5)\n",
    "cur.fetchall()"
   ]
  },
  {
   "cell_type": "code",
   "execution_count": 31,
   "id": "aa9ba0ee",
   "metadata": {},
   "outputs": [
    {
     "data": {
      "text/plain": [
       "[('Cairo', 'Egypt', 'Fall'), ('Mumbai', 'India', 'Fall')]"
      ]
     },
     "execution_count": 31,
     "metadata": {},
     "output_type": "execute_result"
    }
   ],
   "source": [
    "cur.execute(Q6)\n",
    "cur.fetchall()"
   ]
  },
  {
   "cell_type": "code",
   "execution_count": 32,
   "id": "2d762136",
   "metadata": {},
   "outputs": [
    {
     "data": {
      "text/plain": [
       "[(27.6,)]"
      ]
     },
     "execution_count": 32,
     "metadata": {},
     "output_type": "execute_result"
    }
   ],
   "source": [
    "cur.execute(Q7)\n",
    "cur.fetchall()"
   ]
  },
  {
   "cell_type": "code",
   "execution_count": 33,
   "id": "82c821cd",
   "metadata": {},
   "outputs": [
    {
     "data": {
      "text/plain": [
       "[('Cairo', 27.6), ('London', 752.8), ('Mumbai', 1917.5)]"
      ]
     },
     "execution_count": 33,
     "metadata": {},
     "output_type": "execute_result"
    }
   ],
   "source": [
    "cur.execute(Q8)\n",
    "cur.fetchall()"
   ]
  },
  {
   "cell_type": "markdown",
   "id": "143067ce",
   "metadata": {},
   "source": [
    "# Question 9\n",
    "<p>Suppose list words is defined as follows:\n",
    ">>> words = ['The', 'quick', 'brown', 'fox', 'jumps', 'over', 'the', 'lazy', 'dog']\n",
    "Write list comprehension expressions that use list words and generate the following lists:\n",
    "</p>"
   ]
  },
  {
   "cell_type": "code",
   "execution_count": 34,
   "id": "ea2de5ab",
   "metadata": {},
   "outputs": [
    {
     "name": "stdout",
     "output_type": "stream",
     "text": [
      "['The', 'quick', 'brown', 'fox', 'jumps', 'over', 'the', 'lazy', 'dog']\n"
     ]
    }
   ],
   "source": [
    "words = ['The', 'quick', 'brown', 'fox', 'jumps', 'over', 'the', 'lazy', 'dog']\n",
    "print(words)"
   ]
  },
  {
   "cell_type": "code",
   "execution_count": 35,
   "id": "853f2544",
   "metadata": {},
   "outputs": [
    {
     "name": "stdout",
     "output_type": "stream",
     "text": [
      "['THE', 'QUICK', 'BROWN', 'FOX', 'JUMPS', 'OVER', 'THE', 'LAZY', 'DOG']\n"
     ]
    }
   ],
   "source": [
    "upperCaseWords = [word.upper() for word in words ]\n",
    "print(upperCaseWords)"
   ]
  },
  {
   "cell_type": "code",
   "execution_count": 36,
   "id": "bbfa81b6",
   "metadata": {},
   "outputs": [
    {
     "name": "stdout",
     "output_type": "stream",
     "text": [
      "['the', 'quick', 'brown', 'fox', 'jumps', 'over', 'the', 'lazy', 'dog']\n"
     ]
    }
   ],
   "source": [
    "lowerCaseWords = [word.lower() for word in words ]\n",
    "print(lowerCaseWords)"
   ]
  },
  {
   "cell_type": "code",
   "execution_count": 37,
   "id": "3093aa36",
   "metadata": {},
   "outputs": [
    {
     "name": "stdout",
     "output_type": "stream",
     "text": [
      "[3, 5, 5, 3, 5, 4, 3, 4, 3]\n"
     ]
    }
   ],
   "source": [
    "length_of_Words = [len(word) for word in words ]\n",
    "print(length_of_Words)"
   ]
  },
  {
   "cell_type": "code",
   "execution_count": 38,
   "id": "59719684",
   "metadata": {},
   "outputs": [
    {
     "name": "stdout",
     "output_type": "stream",
     "text": [
      "[['THE', 'the', 3], ['QUICK', 'quick', 5], ['BROWN', 'brown', 5], ['FOX', 'fox', 3], ['JUMPS', 'jumps', 5], ['OVER', 'over', 4], ['THE', 'the', 3], ['LAZY', 'lazy', 4], ['DOG', 'dog', 3]]\n"
     ]
    }
   ],
   "source": [
    "Pop_Words = [[word.upper(),word.lower(),len(word)] for word in words ]\n",
    "print(Pop_Words)"
   ]
  },
  {
   "cell_type": "code",
   "execution_count": 39,
   "id": "f5a8c341",
   "metadata": {},
   "outputs": [
    {
     "name": "stdout",
     "output_type": "stream",
     "text": [
      "['quick', 'brown', 'jumps', 'over', 'lazy']\n"
     ]
    }
   ],
   "source": [
    "# the list of words in list words containing 4 or more characters.\n",
    "_4_or_more_letter_Words = [word for word in words if len(word) >= 4]\n",
    "print(_4_or_more_letter_Words)"
   ]
  },
  {
   "cell_type": "code",
   "execution_count": null,
   "id": "e32a9ba7",
   "metadata": {},
   "outputs": [],
   "source": []
  }
 ],
 "metadata": {
  "kernelspec": {
   "display_name": "Python 3 (ipykernel)",
   "language": "python",
   "name": "python3"
  },
  "language_info": {
   "codemirror_mode": {
    "name": "ipython",
    "version": 3
   },
   "file_extension": ".py",
   "mimetype": "text/x-python",
   "name": "python",
   "nbconvert_exporter": "python",
   "pygments_lexer": "ipython3",
   "version": "3.11.4"
  }
 },
 "nbformat": 4,
 "nbformat_minor": 5
}
